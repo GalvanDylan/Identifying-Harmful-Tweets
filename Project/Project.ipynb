{
  "nbformat": 4,
  "nbformat_minor": 0,
  "metadata": {
    "colab": {
      "provenance": []
    },
    "kernelspec": {
      "name": "python3",
      "display_name": "Python 3"
    },
    "language_info": {
      "name": "python"
    },
    "widgets": {
      "application/vnd.jupyter.widget-state+json": {
        "656de530149d46e0984c834ca022f9eb": {
          "model_module": "@jupyter-widgets/controls",
          "model_name": "HBoxModel",
          "model_module_version": "1.5.0",
          "state": {
            "_dom_classes": [],
            "_model_module": "@jupyter-widgets/controls",
            "_model_module_version": "1.5.0",
            "_model_name": "HBoxModel",
            "_view_count": null,
            "_view_module": "@jupyter-widgets/controls",
            "_view_module_version": "1.5.0",
            "_view_name": "HBoxView",
            "box_style": "",
            "children": [
              "IPY_MODEL_9b213ebc52564f48ab375d7b657f6993",
              "IPY_MODEL_8f3a70973b614131bf87c4c8523c257c",
              "IPY_MODEL_cd528d228e3a4f88bcf6cb8f070dd096"
            ],
            "layout": "IPY_MODEL_1675d959362845a89ff6ad546eb9a92a"
          }
        },
        "9b213ebc52564f48ab375d7b657f6993": {
          "model_module": "@jupyter-widgets/controls",
          "model_name": "HTMLModel",
          "model_module_version": "1.5.0",
          "state": {
            "_dom_classes": [],
            "_model_module": "@jupyter-widgets/controls",
            "_model_module_version": "1.5.0",
            "_model_name": "HTMLModel",
            "_view_count": null,
            "_view_module": "@jupyter-widgets/controls",
            "_view_module_version": "1.5.0",
            "_view_name": "HTMLView",
            "description": "",
            "description_tooltip": null,
            "layout": "IPY_MODEL_864bae653dde47cea322116ae84bf836",
            "placeholder": "​",
            "style": "IPY_MODEL_f15cf88f210e44bcb6ba0b2f331aeec6",
            "value": "100%"
          }
        },
        "8f3a70973b614131bf87c4c8523c257c": {
          "model_module": "@jupyter-widgets/controls",
          "model_name": "FloatProgressModel",
          "model_module_version": "1.5.0",
          "state": {
            "_dom_classes": [],
            "_model_module": "@jupyter-widgets/controls",
            "_model_module_version": "1.5.0",
            "_model_name": "FloatProgressModel",
            "_view_count": null,
            "_view_module": "@jupyter-widgets/controls",
            "_view_module_version": "1.5.0",
            "_view_name": "ProgressView",
            "bar_style": "success",
            "description": "",
            "description_tooltip": null,
            "layout": "IPY_MODEL_65b7c3739d7d4b988e7db14f1767a7f2",
            "max": 1,
            "min": 0,
            "orientation": "horizontal",
            "style": "IPY_MODEL_4da1003c22894910909b460c51431c52",
            "value": 1
          }
        },
        "cd528d228e3a4f88bcf6cb8f070dd096": {
          "model_module": "@jupyter-widgets/controls",
          "model_name": "HTMLModel",
          "model_module_version": "1.5.0",
          "state": {
            "_dom_classes": [],
            "_model_module": "@jupyter-widgets/controls",
            "_model_module_version": "1.5.0",
            "_model_name": "HTMLModel",
            "_view_count": null,
            "_view_module": "@jupyter-widgets/controls",
            "_view_module_version": "1.5.0",
            "_view_name": "HTMLView",
            "description": "",
            "description_tooltip": null,
            "layout": "IPY_MODEL_8819215aa20844d0bf72777966af9216",
            "placeholder": "​",
            "style": "IPY_MODEL_57300d96573e435cb400a6889a6a6cd3",
            "value": " 1/1 [00:00&lt;00:00, 12.71it/s]"
          }
        },
        "1675d959362845a89ff6ad546eb9a92a": {
          "model_module": "@jupyter-widgets/base",
          "model_name": "LayoutModel",
          "model_module_version": "1.2.0",
          "state": {
            "_model_module": "@jupyter-widgets/base",
            "_model_module_version": "1.2.0",
            "_model_name": "LayoutModel",
            "_view_count": null,
            "_view_module": "@jupyter-widgets/base",
            "_view_module_version": "1.2.0",
            "_view_name": "LayoutView",
            "align_content": null,
            "align_items": null,
            "align_self": null,
            "border": null,
            "bottom": null,
            "display": null,
            "flex": null,
            "flex_flow": null,
            "grid_area": null,
            "grid_auto_columns": null,
            "grid_auto_flow": null,
            "grid_auto_rows": null,
            "grid_column": null,
            "grid_gap": null,
            "grid_row": null,
            "grid_template_areas": null,
            "grid_template_columns": null,
            "grid_template_rows": null,
            "height": null,
            "justify_content": null,
            "justify_items": null,
            "left": null,
            "margin": null,
            "max_height": null,
            "max_width": null,
            "min_height": null,
            "min_width": null,
            "object_fit": null,
            "object_position": null,
            "order": null,
            "overflow": null,
            "overflow_x": null,
            "overflow_y": null,
            "padding": null,
            "right": null,
            "top": null,
            "visibility": null,
            "width": null
          }
        },
        "864bae653dde47cea322116ae84bf836": {
          "model_module": "@jupyter-widgets/base",
          "model_name": "LayoutModel",
          "model_module_version": "1.2.0",
          "state": {
            "_model_module": "@jupyter-widgets/base",
            "_model_module_version": "1.2.0",
            "_model_name": "LayoutModel",
            "_view_count": null,
            "_view_module": "@jupyter-widgets/base",
            "_view_module_version": "1.2.0",
            "_view_name": "LayoutView",
            "align_content": null,
            "align_items": null,
            "align_self": null,
            "border": null,
            "bottom": null,
            "display": null,
            "flex": null,
            "flex_flow": null,
            "grid_area": null,
            "grid_auto_columns": null,
            "grid_auto_flow": null,
            "grid_auto_rows": null,
            "grid_column": null,
            "grid_gap": null,
            "grid_row": null,
            "grid_template_areas": null,
            "grid_template_columns": null,
            "grid_template_rows": null,
            "height": null,
            "justify_content": null,
            "justify_items": null,
            "left": null,
            "margin": null,
            "max_height": null,
            "max_width": null,
            "min_height": null,
            "min_width": null,
            "object_fit": null,
            "object_position": null,
            "order": null,
            "overflow": null,
            "overflow_x": null,
            "overflow_y": null,
            "padding": null,
            "right": null,
            "top": null,
            "visibility": null,
            "width": null
          }
        },
        "f15cf88f210e44bcb6ba0b2f331aeec6": {
          "model_module": "@jupyter-widgets/controls",
          "model_name": "DescriptionStyleModel",
          "model_module_version": "1.5.0",
          "state": {
            "_model_module": "@jupyter-widgets/controls",
            "_model_module_version": "1.5.0",
            "_model_name": "DescriptionStyleModel",
            "_view_count": null,
            "_view_module": "@jupyter-widgets/base",
            "_view_module_version": "1.2.0",
            "_view_name": "StyleView",
            "description_width": ""
          }
        },
        "65b7c3739d7d4b988e7db14f1767a7f2": {
          "model_module": "@jupyter-widgets/base",
          "model_name": "LayoutModel",
          "model_module_version": "1.2.0",
          "state": {
            "_model_module": "@jupyter-widgets/base",
            "_model_module_version": "1.2.0",
            "_model_name": "LayoutModel",
            "_view_count": null,
            "_view_module": "@jupyter-widgets/base",
            "_view_module_version": "1.2.0",
            "_view_name": "LayoutView",
            "align_content": null,
            "align_items": null,
            "align_self": null,
            "border": null,
            "bottom": null,
            "display": null,
            "flex": null,
            "flex_flow": null,
            "grid_area": null,
            "grid_auto_columns": null,
            "grid_auto_flow": null,
            "grid_auto_rows": null,
            "grid_column": null,
            "grid_gap": null,
            "grid_row": null,
            "grid_template_areas": null,
            "grid_template_columns": null,
            "grid_template_rows": null,
            "height": null,
            "justify_content": null,
            "justify_items": null,
            "left": null,
            "margin": null,
            "max_height": null,
            "max_width": null,
            "min_height": null,
            "min_width": null,
            "object_fit": null,
            "object_position": null,
            "order": null,
            "overflow": null,
            "overflow_x": null,
            "overflow_y": null,
            "padding": null,
            "right": null,
            "top": null,
            "visibility": null,
            "width": null
          }
        },
        "4da1003c22894910909b460c51431c52": {
          "model_module": "@jupyter-widgets/controls",
          "model_name": "ProgressStyleModel",
          "model_module_version": "1.5.0",
          "state": {
            "_model_module": "@jupyter-widgets/controls",
            "_model_module_version": "1.5.0",
            "_model_name": "ProgressStyleModel",
            "_view_count": null,
            "_view_module": "@jupyter-widgets/base",
            "_view_module_version": "1.2.0",
            "_view_name": "StyleView",
            "bar_color": null,
            "description_width": ""
          }
        },
        "8819215aa20844d0bf72777966af9216": {
          "model_module": "@jupyter-widgets/base",
          "model_name": "LayoutModel",
          "model_module_version": "1.2.0",
          "state": {
            "_model_module": "@jupyter-widgets/base",
            "_model_module_version": "1.2.0",
            "_model_name": "LayoutModel",
            "_view_count": null,
            "_view_module": "@jupyter-widgets/base",
            "_view_module_version": "1.2.0",
            "_view_name": "LayoutView",
            "align_content": null,
            "align_items": null,
            "align_self": null,
            "border": null,
            "bottom": null,
            "display": null,
            "flex": null,
            "flex_flow": null,
            "grid_area": null,
            "grid_auto_columns": null,
            "grid_auto_flow": null,
            "grid_auto_rows": null,
            "grid_column": null,
            "grid_gap": null,
            "grid_row": null,
            "grid_template_areas": null,
            "grid_template_columns": null,
            "grid_template_rows": null,
            "height": null,
            "justify_content": null,
            "justify_items": null,
            "left": null,
            "margin": null,
            "max_height": null,
            "max_width": null,
            "min_height": null,
            "min_width": null,
            "object_fit": null,
            "object_position": null,
            "order": null,
            "overflow": null,
            "overflow_x": null,
            "overflow_y": null,
            "padding": null,
            "right": null,
            "top": null,
            "visibility": null,
            "width": null
          }
        },
        "57300d96573e435cb400a6889a6a6cd3": {
          "model_module": "@jupyter-widgets/controls",
          "model_name": "DescriptionStyleModel",
          "model_module_version": "1.5.0",
          "state": {
            "_model_module": "@jupyter-widgets/controls",
            "_model_module_version": "1.5.0",
            "_model_name": "DescriptionStyleModel",
            "_view_count": null,
            "_view_module": "@jupyter-widgets/base",
            "_view_module_version": "1.2.0",
            "_view_name": "StyleView",
            "description_width": ""
          }
        }
      }
    }
  },
  "cells": [
    {
      "cell_type": "code",
      "execution_count": null,
      "metadata": {
        "colab": {
          "base_uri": "https://localhost:8080/"
        },
        "id": "Z0ncXXFJwkMC",
        "outputId": "1850ab6e-e934-434f-f3fe-4633ba36d43e"
      },
      "outputs": [
        {
          "output_type": "stream",
          "name": "stderr",
          "text": [
            "[nltk_data] Downloading package wordnet to /root/nltk_data...\n",
            "[nltk_data]   Package wordnet is already up-to-date!\n"
          ]
        },
        {
          "output_type": "execute_result",
          "data": {
            "text/plain": [
              "True"
            ]
          },
          "metadata": {},
          "execution_count": 18
        }
      ],
      "source": [
        "import pandas as pd\n",
        "import numpy as np\n",
        "import matplotlib.pyplot as plt\n",
        "import seaborn as sns\n",
        "from collections import Counter\n",
        "from sklearn.feature_extraction.text import TfidfVectorizer\n",
        "from sklearn.model_selection import train_test_split\n",
        "from sklearn.linear_model import LogisticRegression\n",
        "from sklearn.tree import DecisionTreeClassifier\n",
        "from sklearn.metrics import accuracy_score\n",
        "import nltk # is a comprehensive suite of libraries and programs for natural language processing (NLP) in Python.\n",
        "nltk.download('wordnet') "
      ]
    },
    {
      "cell_type": "code",
      "source": [
        "# Install required package\n",
        "!pip install datasets"
      ],
      "metadata": {
        "colab": {
          "base_uri": "https://localhost:8080/"
        },
        "id": "7fVevZyLxPS_",
        "outputId": "0967807d-139c-4962-bbe2-52fdcc736121"
      },
      "execution_count": null,
      "outputs": [
        {
          "output_type": "stream",
          "name": "stdout",
          "text": [
            "Looking in indexes: https://pypi.org/simple, https://us-python.pkg.dev/colab-wheels/public/simple/\n",
            "Requirement already satisfied: datasets in /usr/local/lib/python3.9/dist-packages (2.11.0)\n",
            "Requirement already satisfied: responses<0.19 in /usr/local/lib/python3.9/dist-packages (from datasets) (0.18.0)\n",
            "Requirement already satisfied: dill<0.3.7,>=0.3.0 in /usr/local/lib/python3.9/dist-packages (from datasets) (0.3.6)\n",
            "Requirement already satisfied: fsspec[http]>=2021.11.1 in /usr/local/lib/python3.9/dist-packages (from datasets) (2023.4.0)\n",
            "Requirement already satisfied: numpy>=1.17 in /usr/local/lib/python3.9/dist-packages (from datasets) (1.22.4)\n",
            "Requirement already satisfied: pyyaml>=5.1 in /usr/local/lib/python3.9/dist-packages (from datasets) (6.0)\n",
            "Requirement already satisfied: xxhash in /usr/local/lib/python3.9/dist-packages (from datasets) (3.2.0)\n",
            "Requirement already satisfied: packaging in /usr/local/lib/python3.9/dist-packages (from datasets) (23.1)\n",
            "Requirement already satisfied: tqdm>=4.62.1 in /usr/local/lib/python3.9/dist-packages (from datasets) (4.65.0)\n",
            "Requirement already satisfied: huggingface-hub<1.0.0,>=0.11.0 in /usr/local/lib/python3.9/dist-packages (from datasets) (0.14.1)\n",
            "Requirement already satisfied: requests>=2.19.0 in /usr/local/lib/python3.9/dist-packages (from datasets) (2.27.1)\n",
            "Requirement already satisfied: pandas in /usr/local/lib/python3.9/dist-packages (from datasets) (1.5.3)\n",
            "Requirement already satisfied: aiohttp in /usr/local/lib/python3.9/dist-packages (from datasets) (3.8.4)\n",
            "Requirement already satisfied: multiprocess in /usr/local/lib/python3.9/dist-packages (from datasets) (0.70.14)\n",
            "Requirement already satisfied: pyarrow>=8.0.0 in /usr/local/lib/python3.9/dist-packages (from datasets) (9.0.0)\n",
            "Requirement already satisfied: multidict<7.0,>=4.5 in /usr/local/lib/python3.9/dist-packages (from aiohttp->datasets) (6.0.4)\n",
            "Requirement already satisfied: attrs>=17.3.0 in /usr/local/lib/python3.9/dist-packages (from aiohttp->datasets) (23.1.0)\n",
            "Requirement already satisfied: yarl<2.0,>=1.0 in /usr/local/lib/python3.9/dist-packages (from aiohttp->datasets) (1.9.2)\n",
            "Requirement already satisfied: frozenlist>=1.1.1 in /usr/local/lib/python3.9/dist-packages (from aiohttp->datasets) (1.3.3)\n",
            "Requirement already satisfied: async-timeout<5.0,>=4.0.0a3 in /usr/local/lib/python3.9/dist-packages (from aiohttp->datasets) (4.0.2)\n",
            "Requirement already satisfied: aiosignal>=1.1.2 in /usr/local/lib/python3.9/dist-packages (from aiohttp->datasets) (1.3.1)\n",
            "Requirement already satisfied: charset-normalizer<4.0,>=2.0 in /usr/local/lib/python3.9/dist-packages (from aiohttp->datasets) (2.0.12)\n",
            "Requirement already satisfied: filelock in /usr/local/lib/python3.9/dist-packages (from huggingface-hub<1.0.0,>=0.11.0->datasets) (3.12.0)\n",
            "Requirement already satisfied: typing-extensions>=3.7.4.3 in /usr/local/lib/python3.9/dist-packages (from huggingface-hub<1.0.0,>=0.11.0->datasets) (4.5.0)\n",
            "Requirement already satisfied: urllib3<1.27,>=1.21.1 in /usr/local/lib/python3.9/dist-packages (from requests>=2.19.0->datasets) (1.26.15)\n",
            "Requirement already satisfied: certifi>=2017.4.17 in /usr/local/lib/python3.9/dist-packages (from requests>=2.19.0->datasets) (2022.12.7)\n",
            "Requirement already satisfied: idna<4,>=2.5 in /usr/local/lib/python3.9/dist-packages (from requests>=2.19.0->datasets) (3.4)\n",
            "Requirement already satisfied: python-dateutil>=2.8.1 in /usr/local/lib/python3.9/dist-packages (from pandas->datasets) (2.8.2)\n",
            "Requirement already satisfied: pytz>=2020.1 in /usr/local/lib/python3.9/dist-packages (from pandas->datasets) (2022.7.1)\n",
            "Requirement already satisfied: six>=1.5 in /usr/local/lib/python3.9/dist-packages (from python-dateutil>=2.8.1->pandas->datasets) (1.16.0)\n"
          ]
        }
      ]
    },
    {
      "cell_type": "code",
      "source": [
        "# Load the dataset\n",
        "import datasets\n",
        "dataset = datasets.load_dataset('ucberkeley-dlab/measuring-hate-speech', 'binary')   \n",
        "df = dataset['train'].to_pandas()"
      ],
      "metadata": {
        "colab": {
          "base_uri": "https://localhost:8080/",
          "height": 86,
          "referenced_widgets": [
            "656de530149d46e0984c834ca022f9eb",
            "9b213ebc52564f48ab375d7b657f6993",
            "8f3a70973b614131bf87c4c8523c257c",
            "cd528d228e3a4f88bcf6cb8f070dd096",
            "1675d959362845a89ff6ad546eb9a92a",
            "864bae653dde47cea322116ae84bf836",
            "f15cf88f210e44bcb6ba0b2f331aeec6",
            "65b7c3739d7d4b988e7db14f1767a7f2",
            "4da1003c22894910909b460c51431c52",
            "8819215aa20844d0bf72777966af9216",
            "57300d96573e435cb400a6889a6a6cd3"
          ]
        },
        "id": "reg8b-DjxUr1",
        "outputId": "4c5e7644-b533-4d54-848a-92c40621054f"
      },
      "execution_count": null,
      "outputs": [
        {
          "output_type": "stream",
          "name": "stderr",
          "text": [
            "WARNING:datasets.builder:Found cached dataset parquet (/root/.cache/huggingface/datasets/ucberkeley-dlab___parquet/ucberkeley-dlab--measuring-hate-speech-c32713cabe528196/0.0.0/2a3b91fbd88a2c90d1dbbb32b460cf621d31bd5b05b934492fdef7d8d6f236ec)\n"
          ]
        },
        {
          "output_type": "display_data",
          "data": {
            "text/plain": [
              "  0%|          | 0/1 [00:00<?, ?it/s]"
            ],
            "application/vnd.jupyter.widget-view+json": {
              "version_major": 2,
              "version_minor": 0,
              "model_id": "656de530149d46e0984c834ca022f9eb"
            }
          },
          "metadata": {}
        }
      ]
    },
    {
      "cell_type": "code",
      "source": [
        "# Analyze data\n",
        "print(df.describe())"
      ],
      "metadata": {
        "colab": {
          "base_uri": "https://localhost:8080/"
        },
        "id": "NpoUAdnQxhj4",
        "outputId": "e408b4d1-4347-4acc-aa92-f62702b988ac"
      },
      "execution_count": null,
      "outputs": [
        {
          "output_type": "stream",
          "name": "stdout",
          "text": [
            "          comment_id   annotator_id       platform      sentiment  \\\n",
            "count  135556.000000  135556.000000  135556.000000  135556.000000   \n",
            "mean    23530.416138    5567.097812       1.281352       2.954307   \n",
            "std     12387.194125    3230.508937       1.023542       1.231552   \n",
            "min         1.000000       1.000000       0.000000       0.000000   \n",
            "25%     18148.000000    2719.000000       0.000000       2.000000   \n",
            "50%     20052.000000    5602.500000       1.000000       3.000000   \n",
            "75%     32038.250000    8363.000000       2.000000       4.000000   \n",
            "max     50070.000000   11142.000000       3.000000       4.000000   \n",
            "\n",
            "             respect        insult      humiliate         status  \\\n",
            "count  135556.000000  135556.00000  135556.000000  135556.000000   \n",
            "mean        2.828875       2.56331       2.278638       2.698575   \n",
            "std         1.309548       1.38983       1.370876       0.898500   \n",
            "min         0.000000       0.00000       0.000000       0.000000   \n",
            "25%         2.000000       2.00000       1.000000       2.000000   \n",
            "50%         3.000000       3.00000       3.000000       3.000000   \n",
            "75%         4.000000       4.00000       3.000000       3.000000   \n",
            "max         4.000000       4.00000       4.000000       4.000000   \n",
            "\n",
            "          dehumanize       violence  ...     hatespeech  hate_speech_score  \\\n",
            "count  135556.000000  135556.000000  ...  135556.000000      135556.000000   \n",
            "mean        1.846211       1.052045  ...       0.744733          -0.567428   \n",
            "std         1.402372       1.345706  ...       0.932260           2.380003   \n",
            "min         0.000000       0.000000  ...       0.000000          -8.340000   \n",
            "25%         1.000000       0.000000  ...       0.000000          -2.330000   \n",
            "50%         2.000000       0.000000  ...       0.000000          -0.340000   \n",
            "75%         3.000000       2.000000  ...       2.000000           1.410000   \n",
            "max         4.000000       4.000000  ...       2.000000           6.300000   \n",
            "\n",
            "             infitms       outfitms  annotator_severity        std_err  \\\n",
            "count  135556.000000  135556.000000       135556.000000  135556.000000   \n",
            "mean        1.034322       1.001052           -0.018817       0.300588   \n",
            "std         0.496867       0.791943            0.487261       0.236380   \n",
            "min         0.100000       0.070000           -1.820000       0.020000   \n",
            "25%         0.710000       0.560000           -0.380000       0.030000   \n",
            "50%         0.960000       0.830000           -0.020000       0.340000   \n",
            "75%         1.300000       1.220000            0.350000       0.420000   \n",
            "max         5.900000       9.000000            1.360000       1.900000   \n",
            "\n",
            "       annotator_infitms  annotator_outfitms     hypothesis  annotator_age  \n",
            "count      135556.000000       135556.000000  135556.000000  135451.000000  \n",
            "mean            1.007158            1.011841       0.014589      37.910772  \n",
            "std             0.269876            0.675863       0.613006      11.641276  \n",
            "min             0.390000            0.280000      -1.578693      18.000000  \n",
            "25%             0.810000            0.670000      -0.341008      29.000000  \n",
            "50%             0.970000            0.850000       0.110405      35.000000  \n",
            "75%             1.170000            1.130000       0.449555      45.000000  \n",
            "max             2.010000            9.000000       0.987511      81.000000  \n",
            "\n",
            "[8 rows x 22 columns]\n"
          ]
        }
      ]
    },
    {
      "cell_type": "code",
      "source": [
        "print(df.isnull().sum()) # helpful way to quickly identify if there are any missing values in a DataFrame and which columns they are in."
      ],
      "metadata": {
        "colab": {
          "base_uri": "https://localhost:8080/"
        },
        "id": "tfq-riaC2xj6",
        "outputId": "d7dfcc05-c269-4ba6-afac-74b5241744ed"
      },
      "execution_count": null,
      "outputs": [
        {
          "output_type": "stream",
          "name": "stdout",
          "text": [
            "comment_id                      0\n",
            "annotator_id                    0\n",
            "platform                        0\n",
            "sentiment                       0\n",
            "respect                         0\n",
            "                               ..\n",
            "annotator_religion_other        0\n",
            "annotator_sexuality_bisexual    0\n",
            "annotator_sexuality_gay         0\n",
            "annotator_sexuality_straight    0\n",
            "annotator_sexuality_other       0\n",
            "Length: 131, dtype: int64\n"
          ]
        }
      ]
    },
    {
      "cell_type": "code",
      "source": [
        "# Fill missing values\n",
        "df['text'].fillna('', inplace=True)\n",
        "df['hate_speech_score'].fillna(-2, inplace=True)"
      ],
      "metadata": {
        "id": "yRZQCLQ_xmgl"
      },
      "execution_count": null,
      "outputs": []
    },
    {
      "cell_type": "code",
      "source": [
        "# data cleaning\n",
        "#prepare the text data in the text column of a pandas DataFrame df for analysis or machine learning\n",
        "from nltk.stem import WordNetLemmatizer\n",
        "\n",
        "lemmatizer = WordNetLemmatizer() #will be used to lemmatize words later in the code.\n",
        "df['text'] = df['text'].str.replace('[^a-zA-Z\\s]', '') # remove non-alphabetical characters\n",
        "df['text'] = df['text'].str.lower() # convert to lowercase\n",
        "df['text'] = df['text'].apply(lambda x: ' '.join([lemmatizer.lemmatize(w) for w in x.split()])) # lemmatize words\n"
      ],
      "metadata": {
        "colab": {
          "base_uri": "https://localhost:8080/"
        },
        "id": "hAg5dB4r2ktj",
        "outputId": "d35e33a8-0028-45a0-dd5f-e4f5743d64ba"
      },
      "execution_count": null,
      "outputs": [
        {
          "output_type": "stream",
          "name": "stderr",
          "text": [
            "<ipython-input-24-20380574b8bc>:6: FutureWarning: The default value of regex will change from True to False in a future version.\n",
            "  df['text'] = df['text'].str.replace('[^a-zA-Z\\s]', '') # remove non-alphabetical characters\n"
          ]
        }
      ]
    },
    {
      "cell_type": "code",
      "source": [
        "# Split data into training and testing sets\n",
        "train_df, test_df = train_test_split(df, test_size=0.2, random_state=42)\n",
        "\n",
        "vectorizer = TfidfVectorizer(max_features=5000) # set the maximum number of features to 5000 to reduce the risk of overfitting\n",
        "X_train = vectorizer.fit_transform(train_df[\"text\"]) # turn text into numbers, applies the TfidfVectorizer to the text data in the text column of train_df and stores the resulting matrix of numerical features in X_train. The fit_transform() method of the TfidfVectorizer object is used to fit the vectorizer to the training data and transform the text data into a matrix of numerical features.\n",
        "y_train = train_df[\"hate_speech_score\"] >= -1 #hate_speech_score is greater than or equal to -1, the corresponding label is True (1), indicating that the text is considered to be hate speech. If the hate_speech_score is less than -1, the label is False (0), indicating that the text is not considered to be hate speech.\n",
        "\n",
        "#transform text data into numerical features that can be used to train a machine learning model.\n"
      ],
      "metadata": {
        "id": "pZMUUaf6xqVM"
      },
      "execution_count": null,
      "outputs": []
    },
    {
      "cell_type": "code",
      "source": [
        "# Train logistic regression model\n",
        "#Logistic regression is a popular machine learning algorithm used for binary classification tasks, such as identifying whether a text is considered to be hate speech or not.\n",
        "lr_model = LogisticRegression()\n",
        "lr_model.fit(X_train, y_train)\n",
        "\n",
        "\n",
        "# Vectorize test data and predict labels\n",
        "X_test = vectorizer.transform(test_df[\"text\"])\n",
        "y_test = test_df[\"hate_speech_score\"] >= -1\n",
        "y_pred = lr_model.predict(X_test)\n",
        "\n",
        "# Evaluate logistic regression model's performance\n",
        "accuracy = accuracy_score(y_test, y_pred)                                                        #accuracy is a measure of how many of the tweets the model correctly classified as harmful or non-harmful.\n",
        "print(\"Logistic Regression Model Accuracy: {:.2f}%\".format(accuracy * 100)) \n",
        "\n",
        "from sklearn.metrics import f1_score\n",
        "\n",
        "f1 = f1_score(y_test, y_pred)\n",
        "print(\"F1 score: {:.2f}%\".format(f1 * 100))\n"
      ],
      "metadata": {
        "colab": {
          "base_uri": "https://localhost:8080/"
        },
        "id": "1QX2AWpaxvtg",
        "outputId": "5757d9fe-2e75-48b3-d6a6-bbd2faf10684"
      },
      "execution_count": null,
      "outputs": [
        {
          "output_type": "stream",
          "name": "stdout",
          "text": [
            "Logistic Regression Model Accuracy: 87.03%\n",
            "F1 score: 89.34%\n"
          ]
        }
      ]
    },
    {
      "cell_type": "code",
      "source": [
        "\n",
        "\n",
        "# Instantiate & train decision tree model \n",
        "dt_model = DecisionTreeClassifier()\n",
        "dt_model.fit(X_train, y_train)\n",
        "\n",
        "# Classify the test section with the decision tree model\n",
        "pred = dt_model.predict(X_test)\n",
        "\n",
        "# Evaluate decision tree model's accuracy\n",
        "accuracy = accuracy_score(y_test, pred)\n",
        "print(\"Decision Tree Model Accuracy: {:.2f}%\".format(accuracy * 100)) \n",
        "\n",
        "\n",
        "f1 = f1_score(y_test, pred)\n",
        "print(\"F1 score: {:.2f}%\".format(f1 * 100))"
      ],
      "metadata": {
        "colab": {
          "base_uri": "https://localhost:8080/"
        },
        "id": "YI-3JKiHx0tk",
        "outputId": "45e60a51-85ee-4f30-ef24-c8e5394bf362"
      },
      "execution_count": null,
      "outputs": [
        {
          "output_type": "stream",
          "name": "stdout",
          "text": [
            "Decision Tree Model Accuracy: 95.55%\n",
            "F1 score: 96.30%\n"
          ]
        }
      ]
    },
    {
      "cell_type": "code",
      "source": [
        "sns.countplot(x='hate_speech_score', data=df)\n",
        "plt.title(\"Number of Tweets Labeled as Hate Speech and Not Hate Speech\")\n",
        "plt.xlabel(\"Hate Speech Score\")\n",
        "plt.ylabel(\"Count\")\n",
        "plt.show()\n"
      ],
      "metadata": {
        "colab": {
          "base_uri": "https://localhost:8080/",
          "height": 472
        },
        "id": "s9G6m6LbOoBR",
        "outputId": "70c3af7e-ed95-404b-ffe1-9f1f577eb0bf"
      },
      "execution_count": null,
      "outputs": [
        {
          "output_type": "display_data",
          "data": {
            "text/plain": [
              "<Figure size 640x480 with 1 Axes>"
            ],
            "image/png": "[encoded data removed]"
          },
          "metadata": {}
        }
      ]
    },
    {
      "cell_type": "code",
      "source": [
        "sns.histplot(df, x=\"hate_speech_score\", bins=10, kde=True)\n",
        "# Set plot title and axis labels\n",
        "plt.title(\"Distribution of Hate Speech Scores\")\n",
        "plt.xlabel(\"Hate Speech Score\")\n",
        "plt.ylabel(\"Count\")\n",
        "\n",
        "# Show the plot\n",
        "plt.show()"
      ],
      "metadata": {
        "colab": {
          "base_uri": "https://localhost:8080/",
          "height": 472
        },
        "id": "d738JEApWirJ",
        "outputId": "420c82e4-c563-428b-fa14-4df1f8fd8041"
      },
      "execution_count": null,
      "outputs": [
        {
          "output_type": "display_data",
          "data": {
            "text/plain": [
              "<Figure size 640x480 with 1 Axes>"
            ],
            "image/png": "[encoded data removed]"
          },
          "metadata": {}
        }
      ]
    }
  ]
}